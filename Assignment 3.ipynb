{
 "cells": [
  {
   "cell_type": "code",
   "execution_count": 1,
   "id": "f2f91d22",
   "metadata": {},
   "outputs": [
    {
     "name": "stdout",
     "output_type": "stream",
     "text": [
      "Sarah Connor is processing the checkout.\n",
      "1984 and Brave New World are being checked out.\n",
      "The checkout duration of the book is 3 weeks.\n",
      "Checkout 1984 and Brave New World with the following details.\n",
      "-Late Fee:$0.25\n",
      "-Renewals Allowed:2\n",
      "-Special Handling:Handle with care\n"
     ]
    }
   ],
   "source": [
    "def checkout_books(librarian_name):\n",
    "    #Display information about a librarian.\n",
    "    print(librarian_name + \" is processing the checkout.\")\n",
    "#Positional arguments:\n",
    "checkout_books('Sarah Connor')\n",
    "def book_title(book_title1, book_title2):\n",
    "    #Display information about a book.\n",
    "    print(book_title1 +'and'+ book_title2 + \" are being checked out.\")\n",
    "#Positional arguments:\n",
    "book_title('1984 ', ' Brave New World')\n",
    "def checkout_duration(checkout_duration):\n",
    "    print(\"The checkout duration of the book is \"+checkout_duration)\n",
    "#Keyword arguments:\n",
    "checkout_duration('3 weeks.')\n",
    "def additional_checkout_details(book_title1,book_title2, **details):\n",
    "    #Checkout the book with additional details.\n",
    "    print(\"Checkout \" +book_title1 +'and'+book_title2+\"with the following details:\")\n",
    "    for detail, value in details.items():\n",
    "        print(\"-\"+detail.replace('_',' ').title()+\":\"+str(value))\n",
    "#Example of checkout the book with additional details.\n",
    "additional_checkout_details('1984 ',' Brave New World ', Late_fee='$0.25', Renewals_allowed='2', Special_handling='Handle with care')"
   ]
  }
 ],
 "metadata": {
  "kernelspec": {
   "display_name": "Python 3 (ipykernel)",
   "language": "python",
   "name": "python3"
  },
  "language_info": {
   "codemirror_mode": {
    "name": "ipython",
    "version": 3
   },
   "file_extension": ".py",
   "mimetype": "text/x-python",
   "name": "python",
   "nbconvert_exporter": "python",
   "pygments_lexer": "ipython3",
   "version": "3.11.5"
  }
 },
 "nbformat": 4,
 "nbformat_minor": 5
}
